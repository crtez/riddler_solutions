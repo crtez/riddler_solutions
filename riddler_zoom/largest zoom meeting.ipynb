{
 "cells": [
  {
   "cell_type": "code",
   "execution_count": 5,
   "metadata": {},
   "outputs": [],
   "source": [
    "import random\n",
    "import pandas as pd\n",
    "import numpy as np"
   ]
  },
  {
   "cell_type": "code",
   "execution_count": null,
   "metadata": {},
   "outputs": [],
   "source": [
    "real_data = 0\n",
    "for i in range(100000):\n",
    "    data = []\n",
    "    for i in range(1000):\n",
    "        choice1 = random.uniform(0, 1)\n",
    "        choice2 = random.uniform(0, 1)\n",
    "        d = min(choice1, choice2), max(choice1, choice2)\n",
    "        data.append(d)\n",
    "        \n",
    "    success = 0\n",
    "    for i in range(len(data)):\n",
    "        check = data[i]\n",
    "        if (all(check[0] <= data[i][1] and data[i][0] <= check[1] for i in range(len(data)))):\n",
    "            success = 1\n",
    "    real_data += success"
   ]
  },
  {
   "cell_type": "code",
   "execution_count": 96,
   "metadata": {},
   "outputs": [
    {
     "data": {
      "text/plain": [
       "0.659"
      ]
     },
     "execution_count": 96,
     "metadata": {},
     "output_type": "execute_result"
    }
   ],
   "source": [
    "real_data / 1000"
   ]
  }
 ],
 "metadata": {
  "kernelspec": {
   "display_name": "Python 3",
   "language": "python",
   "name": "python3"
  },
  "language_info": {
   "codemirror_mode": {
    "name": "ipython",
    "version": 3
   },
   "file_extension": ".py",
   "mimetype": "text/x-python",
   "name": "python",
   "nbconvert_exporter": "python",
   "pygments_lexer": "ipython3",
   "version": "3.7.1"
  }
 },
 "nbformat": 4,
 "nbformat_minor": 2
}
