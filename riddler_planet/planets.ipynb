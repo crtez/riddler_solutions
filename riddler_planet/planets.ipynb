{
 "cells": [
  {
   "cell_type": "code",
   "execution_count": 115,
   "metadata": {
    "scrolled": false
   },
   "outputs": [
    {
     "data": {
      "application/vnd.jupyter.widget-view+json": {
       "model_id": "7320613fde2148d8a027c2668693df45",
       "version_major": 2,
       "version_minor": 0
      },
      "text/plain": [
       "Canvas(width=500)"
      ]
     },
     "metadata": {},
     "output_type": "display_data"
    }
   ],
   "source": [
    "from math import pi\n",
    "from ipycanvas import Canvas\n",
    "\n",
    "canvas = Canvas(width=500, height=500)\n",
    "\n",
    "canvas.fill_style = 'black'\n",
    "\n",
    "canvas.fill_arc(50, 50, 50, 0, 2 * pi)\n",
    "canvas.fill_arc(50, 150, 50, 0, 2 * pi)\n",
    "\n",
    "\n",
    "canvas"
   ]
  },
  {
   "cell_type": "code",
   "execution_count": 56,
   "metadata": {},
   "outputs": [
    {
     "data": {
      "application/vnd.jupyter.widget-view+json": {
       "model_id": "006adda802e34c4299d9312c7344dde7",
       "version_major": 2,
       "version_minor": 0
      },
      "text/plain": [
       "Canvas(height=100, width=100)"
      ]
     },
     "metadata": {},
     "output_type": "display_data"
    }
   ],
   "source": [
    "canvas = Canvas(width=100, height=100)\n",
    "\n",
    "# Draw simple triangle shape\n",
    "canvas.begin_path()\n",
    "canvas.move_to(75, 50)\n",
    "canvas.line_to(100, 75)\n",
    "canvas.line_to(100, 25)\n",
    "canvas.fill()\n",
    "\n",
    "canvas"
   ]
  }
 ],
 "metadata": {
  "kernelspec": {
   "display_name": "Python 3",
   "language": "python",
   "name": "python3"
  },
  "language_info": {
   "codemirror_mode": {
    "name": "ipython",
    "version": 3
   },
   "file_extension": ".py",
   "mimetype": "text/x-python",
   "name": "python",
   "nbconvert_exporter": "python",
   "pygments_lexer": "ipython3",
   "version": "3.8.3"
  }
 },
 "nbformat": 4,
 "nbformat_minor": 2
}
